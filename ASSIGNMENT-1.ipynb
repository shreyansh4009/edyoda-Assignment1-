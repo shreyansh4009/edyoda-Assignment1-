{
 "cells": [
  {
   "cell_type": "code",
   "execution_count": null,
   "id": "c12b2976",
   "metadata": {},
   "outputs": [],
   "source": [
    "QUESTION-1 \n",
    "(TO PRINT FABNICCO SERIES UPTO FROM 0-50)"
   ]
  },
  {
   "cell_type": "code",
   "execution_count": 1,
   "id": "61f87d20",
   "metadata": {},
   "outputs": [
    {
     "name": "stdout",
     "output_type": "stream",
     "text": [
      "0 1 1 2 3 5 8 13 21 34 55 89 144 233 377 610 987 1597 2584 4181 6765 10946 17711 28657 46368 75025 121393 196418 317811 514229 832040 1346269 2178309 3524578 5702887 9227465 14930352 24157817 39088169 63245986 102334155 165580141 267914296 433494437 701408733 1134903170 1836311903 2971215073 4807526976 7778742049 "
     ]
    }
   ],
   "source": [
    "def FibonacciNum(n):\n",
    "    n1 = 0\n",
    "    n2 = 1\n",
    "    if (n < 1):\n",
    "        return\n",
    "    print(n1, end=\" \")\n",
    "    for i in range(1, n):\n",
    "        print(n2, end=\" \")\n",
    "        next = n1 + n2\n",
    "        n1 = n2\n",
    "        n2 = next\n",
    "FibonacciNum(50)"
   ]
  },
  {
   "cell_type": "code",
   "execution_count": null,
   "id": "1ce8e1f0",
   "metadata": {},
   "outputs": [],
   "source": [
    "QUESTION-2\n",
    "Write a Python program that accepts a word from the user and reverse it.\n",
    "\n"
   ]
  },
  {
   "cell_type": "code",
   "execution_count": 2,
   "id": "022d2617",
   "metadata": {},
   "outputs": [
    {
     "name": "stdout",
     "output_type": "stream",
     "text": [
      "Input a word to reverse: SHREYANSH\n",
      "HSNAYERHS\n",
      "\n"
     ]
    }
   ],
   "source": [
    "word = input(\"Input a word to reverse: \")\n",
    "\n",
    "for char in range(len(word) - 1, -1, -1):\n",
    "  print(word[char], end=\"\")\n",
    "print(\"\\n\")"
   ]
  },
  {
   "cell_type": "code",
   "execution_count": null,
   "id": "21c848dc",
   "metadata": {},
   "outputs": [],
   "source": [
    "QUESTION-3\n",
    "Write a Python program to count the number of even and odd numbers from a series of numbers.\n",
    "\n"
   ]
  },
  {
   "cell_type": "code",
   "execution_count": 3,
   "id": "a33f3b02",
   "metadata": {},
   "outputs": [
    {
     "name": "stdout",
     "output_type": "stream",
     "text": [
      "Number of even numbers : 4\n",
      "Number of odd numbers : 5\n"
     ]
    }
   ],
   "source": [
    "numbers = (1, 2, 3, 4, 5, 6, 7, 8, 9) # Declaring the tuple\n",
    "count_odd = 0\n",
    "count_even = 0\n",
    "for x in numbers:\n",
    "        if not x % 2:\n",
    "    \t     count_even+=1\n",
    "        else:\n",
    "    \t     count_odd+=1\n",
    "print(\"Number of even numbers :\",count_even)\n",
    "print(\"Number of odd numbers :\",count_odd)\n"
   ]
  },
  {
   "cell_type": "code",
   "execution_count": null,
   "id": "db7b14d7",
   "metadata": {},
   "outputs": [],
   "source": []
  }
 ],
 "metadata": {
  "kernelspec": {
   "display_name": "Python 3 (ipykernel)",
   "language": "python",
   "name": "python3"
  },
  "language_info": {
   "codemirror_mode": {
    "name": "ipython",
    "version": 3
   },
   "file_extension": ".py",
   "mimetype": "text/x-python",
   "name": "python",
   "nbconvert_exporter": "python",
   "pygments_lexer": "ipython3",
   "version": "3.10.2"
  }
 },
 "nbformat": 4,
 "nbformat_minor": 5
}
